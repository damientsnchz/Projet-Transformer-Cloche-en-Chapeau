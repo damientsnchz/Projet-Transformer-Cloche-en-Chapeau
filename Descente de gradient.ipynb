{
 "cells": [
  {
   "cell_type": "code",
   "execution_count": 255,
   "id": "643f9573-dca9-44f4-9504-868e025387b9",
   "metadata": {},
   "outputs": [],
   "source": [
    "import torch\n",
    "import numpy as np\n",
    "import matplotlib.pyplot as plt"
   ]
  },
  {
   "cell_type": "code",
   "execution_count": 346,
   "id": "777cd0e0-2a03-422d-b2b3-fe3f48d48e6f",
   "metadata": {},
   "outputs": [],
   "source": [
    "# Déf des paramètres\n",
    "\n",
    "d = 2 # Dim de l'espace dans lequel vivent les courbes\n",
    "n = 10 # Nb d'éléments des courbes\n",
    "r = n # Nb de vecteurs dans la famille gén\n",
    "\n",
    "sigma = 1\n",
    "lambd = 2"
   ]
  },
  {
   "cell_type": "code",
   "execution_count": 347,
   "id": "8ba1ca66-e8e8-4e2e-af4f-e82d5b9d6bcf",
   "metadata": {},
   "outputs": [],
   "source": [
    "# Déf des courbes\n",
    "\n",
    "def ellipse(a,b,rot):\n",
    "    theta = np.linspace(0,2*np.pi,n+1)\n",
    "    x = a*np.cos(theta)*np.cos(rot) - b*np.sin(theta)*np.sin(rot)\n",
    "    y = a*np.cos(theta)*np.sin(rot) + b*np.sin(theta)*np.cos(rot)\n",
    "    return x,y\n",
    "\n",
    "x1,x2 = ellipse(4,2,0)\n",
    "y1,y2 = ellipse(4,2,1)\n",
    "\n",
    "Courbe1 = torch.tensor([[x1[i],x2[i]] for i in range(n)])\n",
    "Courbe2 = torch.tensor([[y1[i],y2[i]] for i in range(n)])\n",
    "Z_vect = Courbe1"
   ]
  },
  {
   "cell_type": "code",
   "execution_count": 348,
   "id": "12717526-b873-4b84-a492-ea9af0e74e65",
   "metadata": {},
   "outputs": [
    {
     "data": {
      "text/plain": [
       "\"\\nArgs :\\nfam_gen : famille gén associée au champ de vect, constituée d'une famille de r vect de R^d\\ncourbe : ensemble de n points de R^d\\n\\nRetour : courbe obtenue par application de la déformation à chaque point de la courbe d'origine\\n\""
      ]
     },
     "execution_count": 348,
     "metadata": {},
     "output_type": "execute_result"
    }
   ],
   "source": [
    "# Déf des déformations \n",
    "\n",
    "noyau_gauss = lambda x,y : torch.exp(-torch.linalg.norm(x-y)**2/(2*sigma**2))\n",
    "'''\n",
    "Args : x,y : vect de R^d\n",
    "Retour : noyau gaussien de x et y\n",
    "'''\n",
    "\n",
    "def champ_vect(fam_gen,x):\n",
    "    '''\n",
    "    Args :\n",
    "    fam_gen : famille gén associée au champ de vect, constituée d'une famille de r vect de R^d\n",
    "    x : variable de la fonction, vect de R^d\n",
    "\n",
    "    Retour : évaluation du champ de vect associé à la famille gén en x\n",
    "    '''\n",
    "    res = torch.zeros(d)\n",
    "    for i in range(r):\n",
    "        res += noyau_gauss(Z_vect[i], x) * fam_gen[i]\n",
    "    return res\n",
    "\n",
    "deform = lambda fam_gen, x : x + champ_vect(fam_gen, x)\n",
    "'''\n",
    "Args : idem que champ_vect\n",
    "Retour : évaluation de la déformation associée à la famille gén en x\n",
    "'''\n",
    "\n",
    "deform_courbe = lambda fam_gen,courbe : torch.stack([deform(fam_gen, courbe[i]) for i in range(n)])\n",
    "'''\n",
    "Args :\n",
    "fam_gen : famille gén associée au champ de vect, constituée d'une famille de r vect de R^d\n",
    "courbe : ensemble de n points de R^d\n",
    "\n",
    "Retour : courbe obtenue par application de la déformation à chaque point de la courbe d'origine\n",
    "'''"
   ]
  },
  {
   "cell_type": "code",
   "execution_count": 349,
   "id": "f5be0941-405e-4d33-9342-8c0a490aff89",
   "metadata": {},
   "outputs": [
    {
     "data": {
      "text/plain": [
       "'\\nArgs : idem que cout\\nRetour : énergie de la déformation associée à la famille gén\\n'"
      ]
     },
     "execution_count": 349,
     "metadata": {},
     "output_type": "execute_result"
    }
   ],
   "source": [
    "# Déf des fonctions pour calculer l'énergie\n",
    "\n",
    "dist = lambda C1,C2 : torch.sum(torch.stack([torch.linalg.norm(C1[i] - C2[i])**2 for i in range(n)]))\n",
    "'''\n",
    "Args : C1,C2 : courbes de R^d constituées chacune de n points\n",
    "Retour : distance entre les 2 courbes\n",
    "'''\n",
    "\n",
    "cout = lambda fam_gen : 1/2 * torch.sum(torch.stack([torch.linalg.norm(fam_gen[i])**2 for i in range(r)]))\n",
    "'''\n",
    "Args : fam_gen : famille gén associée au champ de vect, constituée d'une famille de r vect de R^d\n",
    "Retour : coût de la déformation associée à la famille gén\n",
    "'''\n",
    "\n",
    "energie = lambda fam_gen : cout(fam_gen) + lambd*dist(deform_courbe(fam_gen,Courbe1), Courbe2)\n",
    "'''\n",
    "Args : idem que cout\n",
    "Retour : énergie de la déformation associée à la famille gén\n",
    "'''"
   ]
  },
  {
   "cell_type": "code",
   "execution_count": 350,
   "id": "8ae060fa-2ea7-4ddf-93f4-5573f09582ac",
   "metadata": {},
   "outputs": [
    {
     "data": {
      "text/plain": [
       "(278.010959545113,\n",
       " tensor([[24.5002, -8.9721],\n",
       "         [24.3566, -3.9964],\n",
       "         [16.4467,  5.2432],\n",
       "         [10.8083, 15.5641],\n",
       "         [ 5.7221, 30.1139],\n",
       "         [ 0.8489, 34.3213],\n",
       "         [-3.0089, 25.3441],\n",
       "         [-3.4030,  7.8005],\n",
       "         [ 2.2354, -2.5205],\n",
       "         [15.6257, -8.7661]], dtype=torch.float64))"
      ]
     },
     "execution_count": 350,
     "metadata": {},
     "output_type": "execute_result"
    }
   ],
   "source": [
    "# Ex calcul énergie d'une déformation et gradient de l'énergie \n",
    "\n",
    "fam_gen_ex = torch.ones((r,d), dtype=float, requires_grad=True)\n",
    "\n",
    "energie_val_ex = energie(fam_gen_ex)\n",
    "energie_val_ex.backward()\n",
    "\n",
    "energie_val_ex.item(), fam_gen_ex.grad"
   ]
  },
  {
   "cell_type": "code",
   "execution_count": 351,
   "id": "4fb1cc47-0480-49f9-a5c6-8ed839301a69",
   "metadata": {},
   "outputs": [],
   "source": [
    "# Descente de gradient\n",
    "\n",
    "def descente_gradient_energie(fam_gen_init, epsilon):\n",
    "    '''\n",
    "    Args :\n",
    "    fam_gen_init : famille gén initiale constituée de r vect de R^d\n",
    "    epsilon : réel > 0 donnant la condition d'arrêt de l'algo\n",
    "\n",
    "    Retour : famille gén réalisant une approx d'un minimum local de l'énergie\n",
    "    '''\n",
    "    pas = 0.1\n",
    "    fam_gen = fam_gen_init\n",
    "\n",
    "    while True:\n",
    "        energie_val = energie(fam_gen)\n",
    "        energie_val.backward()\n",
    "        energie_grad = fam_gen.grad\n",
    "        \n",
    "        if torch.linalg.norm(energie_grad) <= epsilon:\n",
    "            break\n",
    "        else: \n",
    "            fam_gen = fam_gen - pas*energie_grad\n",
    "            fam_gen.retain_grad()\n",
    "    \n",
    "    return fam_gen.detach()"
   ]
  },
  {
   "cell_type": "code",
   "execution_count": 356,
   "id": "add471fc-f67e-4d2e-a7ee-6054550ed063",
   "metadata": {},
   "outputs": [
    {
     "data": {
      "text/plain": [
       "tensor([[-1.0363,  1.8969],\n",
       "        [-1.6070,  1.1733],\n",
       "        [-1.6016,  0.0826],\n",
       "        [-0.7959, -1.3923],\n",
       "        [ 0.1190, -1.9862],\n",
       "        [ 1.0363, -1.8969],\n",
       "        [ 1.6070, -1.1733],\n",
       "        [ 1.6016, -0.0826],\n",
       "        [ 0.7959,  1.3923],\n",
       "        [-0.1190,  1.9862]])"
      ]
     },
     "execution_count": 356,
     "metadata": {},
     "output_type": "execute_result"
    }
   ],
   "source": [
    "# Ex calcul min local de l'énergie par descente de gradient\n",
    "\n",
    "fam_gen_init = torch.zeros((r, d), requires_grad=True) # Famille gén initiale\n",
    "epsilon = 1e-5 # Condition d'arrêt\n",
    "\n",
    "fam_gen_min = descente_gradient_energie(fam_gen_init, epsilon)\n",
    "fam_gen_min"
   ]
  },
  {
   "cell_type": "code",
   "execution_count": 357,
   "id": "13511313-e877-48ae-baac-abe2da87d186",
   "metadata": {},
   "outputs": [],
   "source": [
    "# Déformation minimisant l'énergie\n",
    "\n",
    "X_origin = Courbe1.numpy()\n",
    "\n",
    "deform_courbe_np = lambda fam_gen,courbe : deform_courbe(torch.tensor(fam_gen),torch.tensor(courbe)).numpy() # version numpy de la fonction deform_courbe\n",
    "\n",
    "fam_gen_min_np = fam_gen_min.numpy() # numpy array de la famille gén minimisant l'énergie\n",
    "\n",
    "X_deform = deform_courbe_np(fam_gen_min_np,X_origin)\n",
    "X_deform_courbe = np.vstack([X_deform, X_deform[0]])"
   ]
  },
  {
   "cell_type": "code",
   "execution_count": 358,
   "id": "073e5836-ce29-4900-8521-809e3a50521a",
   "metadata": {},
   "outputs": [
    {
     "data": {
      "image/png": "[encoded data removed]",
      "text/plain": [
       "<Figure size 640x480 with 1 Axes>"
      ]
     },
     "metadata": {},
     "output_type": "display_data"
    }
   ],
   "source": [
    "# Plot de la déformation minimisant l'énergie\n",
    "\n",
    "x1_deform, x2_deform = X_deform_courbe[:,0],X_deform_courbe[:,1]\n",
    "\n",
    "plt.figure()\n",
    "plt.plot(x1,x2, label=r'$C_1$')\n",
    "plt.plot(x1_deform,x2_deform, label=r'$\\phi(C_1)$')\n",
    "plt.plot(y1,y2, label=r'$C_2$')\n",
    "plt.legend()\n",
    "plt.show()"
   ]
  }
 ],
 "metadata": {
  "kernelspec": {
   "display_name": "Python 3 (ipykernel)",
   "language": "python",
   "name": "python3"
  },
  "language_info": {
   "codemirror_mode": {
    "name": "ipython",
    "version": 3
   },
   "file_extension": ".py",
   "mimetype": "text/x-python",
   "name": "python",
   "nbconvert_exporter": "python",
   "pygments_lexer": "ipython3",
   "version": "3.12.2"
  }
 },
 "nbformat": 4,
 "nbformat_minor": 5
}
