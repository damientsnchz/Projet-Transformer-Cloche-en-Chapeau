{
 "cells": [
  {
   "cell_type": "code",
   "execution_count": 1,
   "id": "643f9573-dca9-44f4-9504-868e025387b9",
   "metadata": {},
   "outputs": [],
   "source": [
    "import torch\n",
    "import numpy as np\n",
    "import matplotlib.pyplot as plt"
   ]
  },
  {
   "cell_type": "code",
   "execution_count": 27,
   "id": "777cd0e0-2a03-422d-b2b3-fe3f48d48e6f",
   "metadata": {},
   "outputs": [],
   "source": [
    "# Déf des paramètres\n",
    "\n",
    "d = 2 # Dim de l'espace dans lequel vivent les courbes\n",
    "n = 20 # Nb d'éléments des courbes\n",
    "r = n # Nb de vecteurs dans la famille gén"
   ]
  },
  {
   "cell_type": "code",
   "execution_count": 28,
   "id": "8ba1ca66-e8e8-4e2e-af4f-e82d5b9d6bcf",
   "metadata": {},
   "outputs": [],
   "source": [
    "# Déf des courbes\n",
    "\n",
    "def ellipse_torch(a,b,rot):\n",
    "    theta = torch.linspace(0,2*np.pi,n+1, dtype=torch.float64)\n",
    "    rot_tensor = torch.tensor(rot) \n",
    "    x = a*torch.cos(theta)*torch.cos(rot_tensor) - b*torch.sin(theta)*torch.sin(rot_tensor)\n",
    "    y = a*torch.cos(theta)*torch.sin(rot_tensor) + b*torch.sin(theta)*torch.cos(rot_tensor)\n",
    "    return x,y\n",
    "\n",
    "x1,x2 = ellipse_torch(4,2,0)\n",
    "y1,y2 = ellipse_torch(4,2,1)\n",
    "\n",
    "x1_vect, x2_vect = x1[:-1].unsqueeze(1), x2[:-1].unsqueeze(1)\n",
    "y1_vect, y2_vect = y1[:-1].unsqueeze(1), y2[:-1].unsqueeze(1)"
   ]
  },
  {
   "cell_type": "code",
   "execution_count": 29,
   "id": "6baf419a-29ee-4027-9593-a61f8081cd0f",
   "metadata": {},
   "outputs": [
    {
     "data": {
      "text/plain": [
       "tensor([[1.6065, 0.6065]], dtype=torch.float64)"
      ]
     },
     "execution_count": 29,
     "metadata": {},
     "output_type": "execute_result"
    }
   ],
   "source": [
    "# Déf des déformations \n",
    "\n",
    "def noyau_gauss_torch(sigma,x_tensor,y_tensor):\n",
    "    '''\n",
    "    Args : \n",
    "    sigma : réel > 0\n",
    "    x_tensor : tableau de taille (n1,d) : liste de n1 vecteurs de R^d : (x_1, ..., x_n1)\n",
    "    y_tensor : tableau de taille (n2,d) : liste de n2 vecteurs de R^d : (y_1, ..., y_n2)\n",
    "    \n",
    "    Retour : matrice de taille (n1,n2) des noyaux gaussiens des paires de vecteurs de x_tensor et y_tensor : K_sigma(x_i, y_j)\n",
    "    '''\n",
    "    distances_carre = torch.sum((x_tensor.unsqueeze(1) - y_tensor)**2, dim=2)\n",
    "    return torch.exp(-distances_carre / (2*sigma**2))\n",
    "\n",
    "def champ_vect_torch(sigma,a_tensor,x_tensor,z_tensor):\n",
    "    '''\n",
    "    Args :\n",
    "    sigma : réel > 0\n",
    "    a_tensor : tableau de taille (r,d) : liste de r vect de R^d formant de la famille gén du champ\n",
    "    x_tensor : tableau de taille (n,d) : liste de n vect de R^d, variables du champ : (x_1, ..., x_n)\n",
    "    z_tensor : tableau de taille (r,d) : liste de r vect de R^d formant les points de base du champ\n",
    "\n",
    "    Retour : tableau de taille (n,d) : liste des évals du champ en chacun des vect de x_tensor : (v(x_1), ..., v(x_n))\n",
    "    '''\n",
    "    noyaux = noyau_gauss_torch(sigma,x_tensor,z_tensor)\n",
    "    return torch.matmul(noyaux,a_tensor)\n",
    "\n",
    "def deform_torch(sigma,a_tensor,x_tensor,z_tensor):\n",
    "    '''\n",
    "    Args : idem que fonction précédente\n",
    "\n",
    "    Retour : tableau de taille (n,d) : liste des évals de la déform en chacun des vect de x_tensor : (phi(x_1), ..., phi(x_n))\n",
    "    '''\n",
    "    return x_tensor + champ_vect_torch(sigma,a_tensor,x_tensor,z_tensor)\n",
    "\n",
    "sigma = 1\n",
    "a_tensor = torch.tensor([[1,0],[0,1]], dtype=float)\n",
    "z_tensor = torch.tensor([[0,0],[1,1]], dtype=float)\n",
    "x_tensor = torch.tensor([[1,0]], dtype=float)\n",
    "y_tensor = torch.tensor([[0,0],[1,1],[2,2]], dtype=float)\n",
    "\n",
    "deform_torch(sigma,a_tensor,x_tensor,z_tensor)"
   ]
  },
  {
   "cell_type": "code",
   "execution_count": 30,
   "id": "f5be0941-405e-4d33-9342-8c0a490aff89",
   "metadata": {},
   "outputs": [],
   "source": [
    "# Déf des fonctions pour calculer l'énergie\n",
    "\n",
    "def dist_torch(courbe1,courbe2): \n",
    "    '''\n",
    "    Args : courbe1,courbe2 : tableaux de taille (n,d) : courbes de R^d constituées chacune de n points\n",
    "    \n",
    "    Retour : distance entre les 2 courbes\n",
    "    '''\n",
    "    return torch.sum(torch.stack([torch.linalg.norm(courbe1[i] - courbe2[i])**2 for i in range(n)]))\n",
    "\n",
    "\n",
    "def cout_torch(a_tensor): \n",
    "    '''\n",
    "    Args : a_tensor : tableau de taille (r,d) : liste de r vect de R^d formant de la famille gén du champ\n",
    "    \n",
    "    Retour : coût de la déformation associée à la famille gén\n",
    "    '''\n",
    "    return 1/2 * torch.sum(torch.stack([torch.linalg.norm(a_tensor[i])**2 for i in range(r)]))\n",
    "\n",
    "def energie_torch(lambd,sigma,a_tensor,z_tensor,courbe1,courbe2): \n",
    "    '''\n",
    "    Args : \n",
    "    lambd, sigma : réels > 0\n",
    "    a_tensor : tableau de taille (r,d) : liste de r vect de R^d formant de la famille gén du champ\n",
    "    z_tensor : tableau de taille (r,d) : liste de r vect de R^d formant les points de base du champ\n",
    "    courbe1,courbe2 : tableaux de taille (n,d) : courbes de R^d constituées chacune de n points\n",
    "    \n",
    "    Retour : énergie de la déformation associée aux paramètres\n",
    "    '''\n",
    "    courbe1_deform = deform_torch(sigma,a_tensor,courbe1,z_tensor)\n",
    "    return cout_torch(a_tensor) + lambd*dist_torch(courbe1_deform, courbe2)"
   ]
  },
  {
   "cell_type": "code",
   "execution_count": 15,
   "id": "8ae060fa-2ea7-4ddf-93f4-5573f09582ac",
   "metadata": {},
   "outputs": [
    {
     "data": {
      "text/plain": [
       "(527.8727939662888,\n",
       " tensor([[36.3702,  2.7382],\n",
       "         [37.0924,  4.0520],\n",
       "         [33.5227,  5.6046],\n",
       "         [26.1724,  7.3007],\n",
       "         [19.9481,  9.6652],\n",
       "         [16.4186, 13.3945],\n",
       "         [14.7768, 19.1312],\n",
       "         [14.7400, 28.2276],\n",
       "         [15.2091, 39.1275],\n",
       "         [14.4531, 45.4931],\n",
       "         [12.6061, 46.2381],\n",
       "         [10.0441, 43.0845],\n",
       "         [ 6.3934, 34.3115],\n",
       "         [ 2.8727, 21.7445],\n",
       "         [ 1.7098, 11.9927],\n",
       "         [ 3.0876,  6.1117],\n",
       "         [ 6.8811,  2.5266],\n",
       "         [14.3051,  0.8175],\n",
       "         [24.7071,  0.7886],\n",
       "         [32.6835,  1.6434]], dtype=torch.float64))"
      ]
     },
     "execution_count": 15,
     "metadata": {},
     "output_type": "execute_result"
    }
   ],
   "source": [
    "# Ex calcul énergie d'une déformation et gradient de l'énergie \n",
    "\n",
    "lambd = 1\n",
    "sigma = 1 \n",
    "\n",
    "courbe1 = torch.cat((x1_vect,x2_vect), dim=1)\n",
    "courbe2 = torch.concatenate((y1_vect,y2_vect), dim=1)\n",
    "z_tensor = courbe1\n",
    "\n",
    "a_tensor_ex = torch.ones((r,d), dtype=torch.float64, requires_grad=True)\n",
    "\n",
    "energie_val_ex = energie_torch(lambd,sigma,a_tensor_ex,z_tensor,courbe1,courbe2)\n",
    "energie_val_ex.backward()\n",
    "\n",
    "energie_val_ex.item(), a_tensor_ex.grad"
   ]
  },
  {
   "cell_type": "code",
   "execution_count": 31,
   "id": "4fb1cc47-0480-49f9-a5c6-8ed839301a69",
   "metadata": {},
   "outputs": [],
   "source": [
    "# Descente de gradient\n",
    "\n",
    "def descente_gradient_energie(lambd,sigma,epsilon,a_tensor_init,z_tensor,courbe1,courbe2):\n",
    "    '''\n",
    "    Args :\n",
    "    lambd, sigma : réels > 0\n",
    "    epsilon : réel > 0 donnant la condition d'arrêt de l'algo\n",
    "    a_tensor_init : tableau de taille (r,d) : liste de r vect de R^d, approximation initiale de la famille gén optimale du champ\n",
    "    z_tensor : tableau de taille (r,d) : liste de r vect de R^d formant les points de base du champ\n",
    "    courbe1,courbe2 : tableaux de taille (n,d) : courbes de R^d constituées chacune de n points\n",
    "\n",
    "    Retour : famille gén réalisant une approx d'un minimum local de l'énergie\n",
    "    '''\n",
    "    pas = 0.1\n",
    "    a_tensor = a_tensor_init\n",
    "\n",
    "    while True:\n",
    "        energie_val = energie_torch(lambd,sigma,a_tensor,z_tensor,courbe1,courbe2)\n",
    "        energie_val.backward()\n",
    "        energie_grad = a_tensor.grad\n",
    "        \n",
    "        if torch.linalg.norm(energie_grad) <= epsilon:\n",
    "            break\n",
    "        else: \n",
    "            a_tensor = a_tensor - pas*energie_grad\n",
    "            a_tensor.retain_grad()\n",
    "    \n",
    "    return a_tensor.detach()\n",
    "\n",
    "def deform_opti_torch(lambd,sigma,epsilon,a_tensor_init,x_tensor,z_tensor,courbe1,courbe2):\n",
    "    '''\n",
    "    Args : idemn que fonction précédente\n",
    "    x_tensor : tableau de taille (n,d) : liste de n vect de R^d, variables du champ : (x_1, ..., x_n)\n",
    "\n",
    "    Retour : déformation associée à la famille gén optimale \n",
    "    '''\n",
    "    a_tensor_opti = descente_gradient_energie(lambd,sigma,epsilon,a_tensor_init,z_tensor,courbe1,courbe2)\n",
    "    \n",
    "    return deform_torch(sigma,a_tensor_opti,x_tensor,z_tensor)"
   ]
  },
  {
   "cell_type": "code",
   "execution_count": 23,
   "id": "add471fc-f67e-4d2e-a7ee-6054550ed063",
   "metadata": {},
   "outputs": [
    {
     "data": {
      "text/plain": [
       "tensor([[-0.9585,  1.7545],\n",
       "        [-1.4238,  1.0960],\n",
       "        [-1.3716,  0.0725],\n",
       "        [-0.6801, -1.1934],\n",
       "        [ 0.1529, -1.7902],\n",
       "        [ 0.9585, -1.7545],\n",
       "        [ 1.4238, -1.0960],\n",
       "        [ 1.3716, -0.0725],\n",
       "        [ 0.6801,  1.1934],\n",
       "        [-0.1529,  1.7902]], dtype=torch.float64)"
      ]
     },
     "execution_count": 23,
     "metadata": {},
     "output_type": "execute_result"
    }
   ],
   "source": [
    "# Ex calcul min local de l'énergie par descente de gradient\n",
    "\n",
    "lambd = 1\n",
    "sigma = 1 \n",
    "epsilon = 1e-5 # Condition d'arrêt\n",
    "\n",
    "courbe1 = torch.cat((x1_vect,x2_vect), dim=1)\n",
    "courbe2 = torch.cat((y1_vect,y2_vect), dim=1)\n",
    "z_tensor = courbe1\n",
    "\n",
    "a_tensor_init = torch.zeros((r, d), dtype=torch.float64, requires_grad=True) # Famille gén initiale\n",
    "\n",
    "a_tensor_opti = descente_gradient_energie(lambd,sigma,epsilon,a_tensor_init,z_tensor,courbe1,courbe2)\n",
    "a_tensor_opti"
   ]
  },
  {
   "cell_type": "code",
   "execution_count": 24,
   "id": "073e5836-ce29-4900-8521-809e3a50521a",
   "metadata": {},
   "outputs": [
    {
     "data": {
      "image/png": "[encoded data removed]",
      "text/plain": [
       "<Figure size 640x480 with 1 Axes>"
      ]
     },
     "metadata": {},
     "output_type": "display_data"
    }
   ],
   "source": [
    "# Plot de la déformation minimisant l'énergie\n",
    "\n",
    "def courbe_deform_plot(lambd,sigma,epsilon,a_tensor_init,z_tensor,courbe1,courbe2):\n",
    "    '''\n",
    "    Args : idem que decente_gradient_energie\n",
    "\n",
    "    Retour : 2 tableaux de taille (n,1) : listes des abscisses et ordonnées de la courbe déformée\n",
    "    '''\n",
    "    courbe1_deform = deform_opti_torch(lambd,sigma,epsilon,a_tensor_init,courbe1,z_tensor,courbe1,courbe2)\n",
    "    courbe1_deform = torch.cat((courbe1_deform, courbe1_deform[0].unsqueeze(0)), dim=0)\n",
    "    \n",
    "    return courbe1_deform[:,0], courbe1_deform[:,1]\n",
    "\n",
    "lambd = 1\n",
    "sigma = 1 \n",
    "\n",
    "courbe1 = torch.cat((x1_vect,x2_vect), dim=1)\n",
    "courbe2 = torch.cat((y1_vect,y2_vect), dim=1)\n",
    "z_tensor = courbe1\n",
    "\n",
    "a_tensor_init = torch.zeros((r, d), dtype=torch.float64, requires_grad=True) # Famille gén initiale\n",
    "epsilon = 1e-5 # Condition d'arrêt\n",
    "\n",
    "x1_deform, x2_deform = courbe_deform_plot(lambd,sigma,epsilon,a_tensor_init,z_tensor,courbe1,courbe2)\n",
    "\n",
    "plt.figure()\n",
    "plt.plot(x1,x2, label=r'$C_1$')\n",
    "plt.plot(x1_deform,x2_deform, label=r'$\\phi(C_1)$')\n",
    "plt.plot(y1,y2, label=r'$C_2$')\n",
    "plt.legend()\n",
    "plt.show()"
   ]
  },
  {
   "cell_type": "code",
   "execution_count": 32,
   "id": "74cdea8f-ae4e-4ac9-977f-3bc63bd23bbf",
   "metadata": {},
   "outputs": [],
   "source": [
    "def descente_gradient_energie_bis(lambd,sigma,epsilon,pas_init,a_tensor_init,z_tensor,courbe1,courbe2):\n",
    "    '''\n",
    "    Args :\n",
    "    lambd, sigma : réels > 0 : paramètres de la déform\n",
    "    epsilon : réel > 0 donnant la condition d'arrêt de l'algo\n",
    "    pas_init : réel > 0 : pas initiale pour l'algo\n",
    "    a_tensor_init : tableau de taille (r,d) : liste de r vect de R^d, approximation initiale de la famille gén optimale du champ\n",
    "    z_tensor : tableau de taille (r,d) : liste de r vect de R^d formant les points de base du champ\n",
    "    courbe1,courbe2 : tableaux de taille (n,d) : courbes de R^d constituées chacune de n points\n",
    "\n",
    "    Retour : famille gén réalisant une approx d'un minimum local de l'énergie\n",
    "    '''\n",
    "    pas = pas_init\n",
    "    a_tensor = a_tensor_init\n",
    "    energie_val_prec = float('inf')\n",
    "\n",
    "    while True:\n",
    "        energie_val = energie_torch(lambd,sigma,a_tensor,z_tensor,courbe1,courbe2)\n",
    "        energie_val.backward()\n",
    "        energie_grad = a_tensor.grad\n",
    "\n",
    "        #print(energie_val.item(), energie_val_prec)\n",
    "        \n",
    "        if torch.linalg.norm(energie_grad) <= epsilon:\n",
    "            break\n",
    "            \n",
    "        if energie_val.item() >= energie_val_prec:\n",
    "            pas *= 0.8\n",
    "        else:\n",
    "            pas *= 1.2\n",
    "\n",
    "        energie_val_prec = energie_val.item()\n",
    "        a_tensor = a_tensor - pas*energie_grad\n",
    "        a_tensor.retain_grad()\n",
    "\n",
    "    return a_tensor.detach()"
   ]
  },
  {
   "cell_type": "code",
   "execution_count": 33,
   "id": "d8849311-9498-45d2-926d-591788885fd3",
   "metadata": {},
   "outputs": [
    {
     "data": {
      "text/plain": [
       "tensor([[-0.5200,  0.9519],\n",
       "        [-0.7180,  0.8129],\n",
       "        [-0.8712,  0.6319],\n",
       "        [-0.9603,  0.4242],\n",
       "        [-0.9484,  0.0714],\n",
       "        [-0.7638, -0.4173],\n",
       "        [-0.4524, -0.8366],\n",
       "        [-0.1619, -1.0373],\n",
       "        [ 0.0610, -1.0745],\n",
       "        [ 0.2961, -1.0434],\n",
       "        [ 0.5200, -0.9519],\n",
       "        [ 0.7180, -0.8129],\n",
       "        [ 0.8712, -0.6319],\n",
       "        [ 0.9603, -0.4242],\n",
       "        [ 0.9484, -0.0714],\n",
       "        [ 0.7638,  0.4173],\n",
       "        [ 0.4524,  0.8366],\n",
       "        [ 0.1619,  1.0373],\n",
       "        [-0.0610,  1.0745],\n",
       "        [-0.2961,  1.0434]], dtype=torch.float64)"
      ]
     },
     "execution_count": 33,
     "metadata": {},
     "output_type": "execute_result"
    }
   ],
   "source": [
    "# Ex calcul min local de l'énergie par descente de gradient\n",
    "\n",
    "lambd = 1\n",
    "sigma = 1 \n",
    "epsilon = 1e-5 # Condition d'arrêt\n",
    "pas_init = 1\n",
    "\n",
    "courbe1 = torch.cat((x1_vect,x2_vect), dim=1)\n",
    "courbe2 = torch.cat((y1_vect,y2_vect), dim=1)\n",
    "z_tensor = courbe1\n",
    "\n",
    "a_tensor_init = torch.zeros((r, d), dtype=torch.float64, requires_grad=True) # Famille gén initiale\n",
    "\n",
    "\n",
    "a_tensor_opti = descente_gradient_energie_bis(lambd,sigma,epsilon,pas_init,a_tensor_init,z_tensor,courbe1,courbe2)\n",
    "a_tensor_opti"
   ]
  },
  {
   "cell_type": "code",
   "execution_count": null,
   "id": "763b8f73-a741-4008-810f-aded2134afd8",
   "metadata": {},
   "outputs": [],
   "source": [
    "def deform_euler_torch(N,sigma,a_tensor,x_tensor,z_tensor):\n",
    "    '''\n",
    "    Args : \n",
    "\n",
    "    Retour : \n",
    "    '''\n",
    "    deform_iter = lambda x : x + 1/N*champ_vect_tensor(sigma,a_tensor,x,z_tensor)\n",
    "    x_res = x_tensor\n",
    "    for _ in range(N-1):\n",
    "        x_res = deform_iter(x_res)\n",
    "    return x_res\n",
    "\n",
    "def courbe_deform_euler_plot(lambd,sigma,epsilon,a_tensor_init,z_tensor,courbe1,courbe2):\n",
    "    '''\n",
    "    Args : idem que decente_gradient_energie\n",
    "\n",
    "    Retour : 2 tableaux de taille (n,1) : listes des abscisses et ordonnées de la courbe déformée\n",
    "    '''\n",
    "    courbe1_deform = deform_opti_torch(lambd,sigma,epsilon,a_tensor_init,courbe1,z_tensor,courbe1,courbe2)\n",
    "    courbe1_deform = torch.cat((courbe1_deform, courbe1_deform[0].unsqueeze(0)), dim=0)\n",
    "    \n",
    "    return courbe1_deform[:,0], courbe1_deform[:,1]"
   ]
  }
 ],
 "metadata": {
  "kernelspec": {
   "display_name": "Python 3 (ipykernel)",
   "language": "python",
   "name": "python3"
  },
  "language_info": {
   "codemirror_mode": {
    "name": "ipython",
    "version": 3
   },
   "file_extension": ".py",
   "mimetype": "text/x-python",
   "name": "python",
   "nbconvert_exporter": "python",
   "pygments_lexer": "ipython3",
   "version": "3.12.2"
  }
 },
 "nbformat": 4,
 "nbformat_minor": 5
}
