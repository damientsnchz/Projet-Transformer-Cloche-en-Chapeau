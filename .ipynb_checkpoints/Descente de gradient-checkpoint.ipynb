{
 "cells": [
  {
   "cell_type": "code",
   "execution_count": 46,
   "id": "643f9573-dca9-44f4-9504-868e025387b9",
   "metadata": {},
   "outputs": [],
   "source": [
    "import torch\n",
    "import numpy as np\n",
    "import matplotlib.pyplot as plt"
   ]
  },
  {
   "cell_type": "code",
   "execution_count": 328,
   "id": "777cd0e0-2a03-422d-b2b3-fe3f48d48e6f",
   "metadata": {},
   "outputs": [],
   "source": [
    "# Déf des paramètres\n",
    "\n",
    "d = 2 # Dim de l'espace dans lequel vivent les courbes\n",
    "n = 20 # Nb d'éléments des courbes\n",
    "r = n # Nb de vecteurs dans la famille gén\n",
    "\n",
    "sigma = 1\n",
    "lambd = 1"
   ]
  },
  {
   "cell_type": "code",
   "execution_count": 329,
   "id": "8ba1ca66-e8e8-4e2e-af4f-e82d5b9d6bcf",
   "metadata": {},
   "outputs": [],
   "source": [
    "# Déf des courbes\n",
    "\n",
    "def ellipse(a,b,rot):\n",
    "    theta = np.linspace(rot,2*np.pi+rot,n+1)\n",
    "    x = a*np.cos(theta)*np.cos(rot) - b*np.sin(theta)*np.sin(rot)\n",
    "    y = a*np.cos(theta)*np.sin(rot) + b*np.sin(theta)*np.cos(rot)\n",
    "    return x,y\n",
    "\n",
    "x1,x2 = ellipse(4,2,0)\n",
    "y1,y2 = ellipse(4,2,1)\n",
    "\n",
    "Courbe1 = torch.tensor([[x1[i],x2[i]] for i in range(n)])\n",
    "Courbe2 = torch.tensor([[y1[i],y2[i]] for i in range(n)])\n",
    "Z_vect = Courbe1"
   ]
  },
  {
   "cell_type": "code",
   "execution_count": 330,
   "id": "12717526-b873-4b84-a492-ea9af0e74e65",
   "metadata": {},
   "outputs": [
    {
     "data": {
      "text/plain": [
       "'\\nArgs : idem que champ_vect\\nRetour : évaluation de la déformation associée à la famille gén en x\\n'"
      ]
     },
     "execution_count": 330,
     "metadata": {},
     "output_type": "execute_result"
    }
   ],
   "source": [
    "# Déf des déformations \n",
    "\n",
    "noyau_gauss = lambda x,y : torch.exp(-torch.linalg.norm(x-y)**2/(2*sigma**2))\n",
    "'''\n",
    "Args : x,y : vect de R^d\n",
    "Retour : noyau gaussien de x et y\n",
    "'''\n",
    "\n",
    "def champ_vect(fam_gen,x):\n",
    "    '''\n",
    "    Args :\n",
    "    fam_gen : famille gén associée au champ de vect, constituée d'une famille de r vect de R^d\n",
    "    x : variable de la fonction, vect de R^d\n",
    "\n",
    "    Retour : évaluation du champ de vect associé à la famille gén en x\n",
    "    '''\n",
    "    res = torch.zeros(d)\n",
    "    for i in range(r):\n",
    "        res += noyau_gauss(Z_vect[i], x) * fam_gen[i]\n",
    "    return res\n",
    "\n",
    "deform = lambda fam_gen, x : x + champ_vect(fam_gen, x)\n",
    "'''\n",
    "Args : idem que champ_vect\n",
    "Retour : évaluation de la déformation associée à la famille gén en x\n",
    "'''"
   ]
  },
  {
   "cell_type": "code",
   "execution_count": 331,
   "id": "f5be0941-405e-4d33-9342-8c0a490aff89",
   "metadata": {},
   "outputs": [
    {
     "data": {
      "text/plain": [
       "'\\nArgs : idem que cout\\nRetour : énergie de la déformation associée à la famille gén\\n'"
      ]
     },
     "execution_count": 331,
     "metadata": {},
     "output_type": "execute_result"
    }
   ],
   "source": [
    "# Déf des fonctions pour calculer l'énergie\n",
    "\n",
    "dist = lambda C1,C2 : torch.sum(torch.tensor([torch.linalg.norm(C1[i] - C2[i])**2 for i in range(n)]))\n",
    "'''\n",
    "Args : C1,C2 : courbes de R^d constituées chacune de n points\n",
    "Retour : distance entre les 2 courbes\n",
    "'''\n",
    "\n",
    "cout = lambda fam_gen : 1/2 * torch.sum(torch.stack([torch.linalg.norm(fam_gen[i])**2 for i in range(r)]))\n",
    "'''\n",
    "Args : fam_gen : famille gén associée au champ de vect, constituée d'une famille de r vect de R^d\n",
    "Retour : coût de la déformation associée à la famille gén\n",
    "'''\n",
    "\n",
    "energie = lambda fam_gen : cout(fam_gen) + lambd*dist(deform(fam_gen,Courbe1), Courbe2)\n",
    "'''\n",
    "Args : idem que cout\n",
    "Retour : énergie de la déformation associée à la famille gén\n",
    "'''"
   ]
  },
  {
   "cell_type": "code",
   "execution_count": 343,
   "id": "8ae060fa-2ea7-4ddf-93f4-5573f09582ac",
   "metadata": {},
   "outputs": [
    {
     "data": {
      "text/plain": [
       "(509.81286115697134,\n",
       " tensor([[0., 0.],\n",
       "         [0., 0.],\n",
       "         [0., 0.],\n",
       "         [0., 0.],\n",
       "         [0., 0.],\n",
       "         [0., 0.],\n",
       "         [0., 0.],\n",
       "         [0., 0.],\n",
       "         [0., 0.],\n",
       "         [0., 0.],\n",
       "         [0., 0.],\n",
       "         [0., 0.],\n",
       "         [0., 0.],\n",
       "         [0., 0.],\n",
       "         [0., 0.],\n",
       "         [0., 0.],\n",
       "         [0., 0.],\n",
       "         [0., 0.],\n",
       "         [0., 0.],\n",
       "         [0., 0.]], dtype=torch.float64))"
      ]
     },
     "execution_count": 343,
     "metadata": {},
     "output_type": "execute_result"
    }
   ],
   "source": [
    "# Ex calcul énergie d'une déformation et gradient de l'énergie \n",
    "\n",
    "fam_gen_ex = torch.zeros((r,d), dtype=float, requires_grad=True)\n",
    "#fam_gen_ex = torch.rand(r, d, requires_grad=True)\n",
    "energie_val_ex = energie(fam_gen_ex)\n",
    "energie_val_ex.backward()\n",
    "\n",
    "energie_val_ex.item(), fam_gen_ex.grad"
   ]
  },
  {
   "cell_type": "code",
   "execution_count": 333,
   "id": "4fb1cc47-0480-49f9-a5c6-8ed839301a69",
   "metadata": {},
   "outputs": [],
   "source": [
    "# Descente de gradient\n",
    "\n",
    "def descente_gradient_energie(fam_gen_init, epsilon):\n",
    "    '''\n",
    "    Args :\n",
    "    fam_gen_init : famille gén initiale constituée de r vect de R^d\n",
    "    epsilon : réel > 0 donnant la condition d'arrêt de l'algo\n",
    "\n",
    "    Retour : famille gén réalisant une approx d'un minimum local de l'énergie\n",
    "    '''\n",
    "    pas = 0.01\n",
    "    fam_gen = fam_gen_init\n",
    "\n",
    "    while True:\n",
    "        energie_val = energie(fam_gen)\n",
    "        energie_val.backward()\n",
    "        energie_grad = fam_gen.grad\n",
    "        \n",
    "        if torch.linalg.norm(energie_grad) <= epsilon:\n",
    "            break\n",
    "        else: \n",
    "            fam_gen = fam_gen - pas*energie_grad\n",
    "            fam_gen.retain_grad()\n",
    "    \n",
    "    return fam_gen.detach()"
   ]
  },
  {
   "cell_type": "code",
   "execution_count": 334,
   "id": "add471fc-f67e-4d2e-a7ee-6054550ed063",
   "metadata": {},
   "outputs": [
    {
     "data": {
      "text/plain": [
       "tensor([[1.5661e-06, 1.5661e-06],\n",
       "        [1.5661e-06, 1.5661e-06],\n",
       "        [1.5661e-06, 1.5661e-06],\n",
       "        [1.5661e-06, 1.5661e-06],\n",
       "        [1.5661e-06, 1.5661e-06],\n",
       "        [1.5661e-06, 1.5661e-06],\n",
       "        [1.5661e-06, 1.5661e-06],\n",
       "        [1.5661e-06, 1.5661e-06],\n",
       "        [1.5661e-06, 1.5661e-06],\n",
       "        [1.5661e-06, 1.5661e-06],\n",
       "        [1.5661e-06, 1.5661e-06],\n",
       "        [1.5661e-06, 1.5661e-06],\n",
       "        [1.5661e-06, 1.5661e-06],\n",
       "        [1.5661e-06, 1.5661e-06],\n",
       "        [1.5661e-06, 1.5661e-06],\n",
       "        [1.5661e-06, 1.5661e-06],\n",
       "        [1.5661e-06, 1.5661e-06],\n",
       "        [1.5661e-06, 1.5661e-06],\n",
       "        [1.5661e-06, 1.5661e-06],\n",
       "        [1.5661e-06, 1.5661e-06]])"
      ]
     },
     "execution_count": 334,
     "metadata": {},
     "output_type": "execute_result"
    }
   ],
   "source": [
    "# Ex calcul min local de l'énergie par descente de gradient\n",
    "\n",
    "fam_gen_init = torch.ones((r, d), requires_grad=True) # Famille gén initiale\n",
    "epsilon = 1e-5  # Condition d'arrêt\n",
    "\n",
    "fam_gen_min = descente_gradient_energie(fam_gen_init, epsilon)\n",
    "fam_gen_min"
   ]
  },
  {
   "cell_type": "code",
   "execution_count": 335,
   "id": "47a194fa-1b63-4a3a-8f01-354fc8ec5e9d",
   "metadata": {},
   "outputs": [],
   "source": [
    "# Déf des courbes (numpy)\n",
    "\n",
    "X_origin = Courbe1.numpy()\n",
    "Y_origin = Courbe2.numpy()\n",
    "Z_vect_np = X_origin"
   ]
  },
  {
   "cell_type": "code",
   "execution_count": 336,
   "id": "dd4eaf84-ffca-4038-bbae-67edbd581f9b",
   "metadata": {},
   "outputs": [],
   "source": [
    "# Déf des déformations (numpy)\n",
    "\n",
    "noyau_gauss_np = lambda x,y : noyau_gauss(torch.tensor(x),torch.tensor(y)).numpy()\n",
    "\n",
    "champ_vect_np = lambda fam_gen,x : champ_vect(torch.tensor(fam_gen),torch.tensor(x)).numpy()\n",
    "\n",
    "deform_np = lambda fam_gen,x : x + champ_vect_np(fam_gen,x)"
   ]
  },
  {
   "cell_type": "code",
   "execution_count": 337,
   "id": "13511313-e877-48ae-baac-abe2da87d186",
   "metadata": {},
   "outputs": [],
   "source": [
    "# Déformation minimisant l'énergie\n",
    "\n",
    "fam_gen_np = fam_gen_min.numpy()\n",
    "\n",
    "phi_deform = lambda x: deform_np(fam_gen_np,x)\n",
    "\n",
    "X_deform_points = [phi_deform(X_origin[i]) for i in range(n)]\n",
    "X_deform_courbe = np.vstack([X_deform_points, X_deform_points[0]])"
   ]
  },
  {
   "cell_type": "code",
   "execution_count": 338,
   "id": "073e5836-ce29-4900-8521-809e3a50521a",
   "metadata": {},
   "outputs": [
    {
     "data": {
      "image/png": "[encoded data removed]",
      "text/plain": [
       "<Figure size 640x480 with 1 Axes>"
      ]
     },
     "metadata": {},
     "output_type": "display_data"
    }
   ],
   "source": [
    "# Plot de la déformation minimisant l'énergie\n",
    "\n",
    "x1_deform, x2_deform = X_deform_courbe[:,0],X_deform_courbe[:,1]\n",
    "\n",
    "plt.figure()\n",
    "plt.plot(x1_deform,x2_deform)\n",
    "plt.plot(y1,y2)\n",
    "plt.show()"
   ]
  },
  {
   "cell_type": "code",
   "execution_count": 339,
   "id": "4117a125-30e5-4d6f-b177-302e226c2d09",
   "metadata": {},
   "outputs": [
    {
     "data": {
      "text/plain": [
       "tensor(509.8129, dtype=torch.float64)"
      ]
     },
     "execution_count": 339,
     "metadata": {},
     "output_type": "execute_result"
    }
   ],
   "source": [
    "#energie(fam_gen_min).item()\n",
    "\n",
    "fam_gen_test = torch.tensor([[0.56,-0.56]], dtype=float)\n",
    "fam_gen = torch.zeros((r,d), dtype=float, requires_grad=True)\n",
    "\n",
    "\n",
    "energie(fam_gen_min), "
   ]
  }
 ],
 "metadata": {
  "kernelspec": {
   "display_name": "Python 3 (ipykernel)",
   "language": "python",
   "name": "python3"
  },
  "language_info": {
   "codemirror_mode": {
    "name": "ipython",
    "version": 3
   },
   "file_extension": ".py",
   "mimetype": "text/x-python",
   "name": "python",
   "nbconvert_exporter": "python",
   "pygments_lexer": "ipython3",
   "version": "3.12.2"
  }
 },
 "nbformat": 4,
 "nbformat_minor": 5
}
